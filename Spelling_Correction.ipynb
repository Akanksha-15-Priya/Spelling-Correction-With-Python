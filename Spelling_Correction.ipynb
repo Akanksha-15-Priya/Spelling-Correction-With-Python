{
  "nbformat": 4,
  "nbformat_minor": 0,
  "metadata": {
    "colab": {
      "name": "Spelling Correction.ipynb",
      "provenance": [],
      "collapsed_sections": []
    },
    "kernelspec": {
      "name": "python3",
      "display_name": "Python 3"
    },
    "language_info": {
      "name": "python"
    }
  },
  "cells": [
    {
      "cell_type": "code",
      "metadata": {
        "colab": {
          "base_uri": "https://localhost:8080/"
        },
        "id": "freU1Akf0Rjx",
        "outputId": "a85ddaf7-f10b-4b9b-bf54-df8b7ec24db0"
      },
      "source": [
        "from textblob import TextBlob\n",
        "misspelledWords = [\"laughtr\", \"corage\"]\n",
        "corrected_words = []\n",
        "for i in misspelledWords:\n",
        "    corrected_words.append(TextBlob(i))\n",
        "print(\"Wrong words :\", misspelledWords)\n",
        "print(\"Corrected Words are :\")\n",
        "for i in corrected_words:\n",
        "    print(i.correct(), end=\" \")"
      ],
      "execution_count": 2,
      "outputs": [
        {
          "output_type": "stream",
          "text": [
            "Wrong words : ['laughtr', 'corage']\n",
            "Corrected Words are :\n",
            "laughter courage "
          ],
          "name": "stdout"
        }
      ]
    }
  ]
}